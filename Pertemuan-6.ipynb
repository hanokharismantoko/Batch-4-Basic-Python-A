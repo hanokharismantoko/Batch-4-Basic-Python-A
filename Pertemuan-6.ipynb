{
 "cells": [
  {
   "cell_type": "code",
   "execution_count": 2,
   "id": "understood-journalist",
   "metadata": {},
   "outputs": [
    {
     "name": "stdout",
     "output_type": "stream",
     "text": [
      "Hai aku AIs, asisten virtual pertamamu\n",
      "Siapa namamu?\n"
     ]
    },
    {
     "name": "stdin",
     "output_type": "stream",
     "text": [
      "\n",
      "Masukkan nama:  Rizki\n"
     ]
    },
    {
     "name": "stdout",
     "output_type": "stream",
     "text": [
      "\n",
      "Salam kenal Rizki\n",
      "Apakah ada yang bisa aku bantu?\n",
      "\n",
      "Silahkan pilih bantuan yang bisa aku berikan:\n",
      "1. Tentang hari ini\n",
      "2. Mencatat jadwal agenda harianmu\n",
      "3. Keluar\n"
     ]
    },
    {
     "name": "stdin",
     "output_type": "stream",
     "text": [
      "Pilih hanya angka aja ya: \n",
      " 2\n"
     ]
    },
    {
     "name": "stdout",
     "output_type": "stream",
     "text": [
      "\n",
      "Apa agendamu?\n",
      "1. Daftar agenda\n",
      "2. Menambah agenda\n",
      "3. Keluar\n"
     ]
    },
    {
     "name": "stdin",
     "output_type": "stream",
     "text": [
      "Pilih hanya angka aja ya: \n",
      " 1\n"
     ]
    },
    {
     "name": "stdout",
     "output_type": "stream",
     "text": [
      "=================================\n",
      "Daftar agendamu kosong Rizki!\n",
      "Coba kamu tambahin agendamu dulu\n",
      "=================================\n",
      "\n",
      "Apa agendamu?\n",
      "1. Daftar agenda\n",
      "2. Menambah agenda\n",
      "3. Keluar\n"
     ]
    },
    {
     "name": "stdin",
     "output_type": "stream",
     "text": [
      "Pilih hanya angka aja ya: \n",
      " 2\n",
      "Apa rencana kegiatanmu:  Makan\n",
      "Tanggal berapa itu dilakukan (format DD-MM-YYYY):  01-03-2021\n",
      "Dilakukan jam berapa (HH:MM):  08:00\n"
     ]
    },
    {
     "name": "stdout",
     "output_type": "stream",
     "text": [
      "\n",
      "=============================================\n",
      "Oke, agendamu berhasil ditambahkan\n",
      "=============================================\n",
      "\n",
      "Apa agendamu?\n",
      "1. Daftar agenda\n",
      "2. Menambah agenda\n",
      "3. Keluar\n"
     ]
    },
    {
     "name": "stdin",
     "output_type": "stream",
     "text": [
      "Pilih hanya angka aja ya: \n",
      " 2\n",
      "Apa rencana kegiatanmu:  Tidur\n",
      "Tanggal berapa itu dilakukan (format DD-MM-YYYY):  02-03-2021\n",
      "Dilakukan jam berapa (HH:MM):  12:00\n"
     ]
    },
    {
     "name": "stdout",
     "output_type": "stream",
     "text": [
      "\n",
      "=============================================\n",
      "Oke, agendamu berhasil ditambahkan\n",
      "=============================================\n",
      "\n",
      "Apa agendamu?\n",
      "1. Daftar agenda\n",
      "2. Menambah agenda\n",
      "3. Keluar\n"
     ]
    },
    {
     "name": "stdin",
     "output_type": "stream",
     "text": [
      "Pilih hanya angka aja ya: \n",
      " 1\n"
     ]
    },
    {
     "name": "stdout",
     "output_type": "stream",
     "text": [
      "Total agenda ada-2, ini ya rinciannya:\n",
      "-----------------------------------------\n",
      "Rencana kegiatanmu:  Makan\n",
      "Dilakukan tanggal:  01-03-2021\n",
      "Dilakukan jam:  08:00\n",
      "-----------------------------------------\n",
      "Rencana kegiatanmu:  Tidur\n",
      "Dilakukan tanggal:  02-03-2021\n",
      "Dilakukan jam:  12:00\n",
      "-----------------------------------------\n",
      "\n",
      "Apa agendamu?\n",
      "1. Daftar agenda\n",
      "2. Menambah agenda\n",
      "3. Keluar\n"
     ]
    },
    {
     "name": "stdin",
     "output_type": "stream",
     "text": [
      "Pilih hanya angka aja ya: \n",
      " 6\n"
     ]
    },
    {
     "name": "stdout",
     "output_type": "stream",
     "text": [
      "======================================\n",
      "Menu tidak tersedia\n",
      "\n",
      "Apa agendamu?\n",
      "1. Daftar agenda\n",
      "2. Menambah agenda\n",
      "3. Keluar\n"
     ]
    },
    {
     "name": "stdin",
     "output_type": "stream",
     "text": [
      "Pilih hanya angka aja ya: \n",
      " 3\n"
     ]
    },
    {
     "name": "stdout",
     "output_type": "stream",
     "text": [
      "\n",
      "Yasuda kalo gitu\n",
      "======================================\n",
      "\n",
      "Silahkan pilih bantuan yang bisa aku berikan:\n",
      "1. Tentang hari ini\n",
      "2. Mencatat jadwal agenda harianmu\n",
      "3. Keluar\n"
     ]
    },
    {
     "name": "stdin",
     "output_type": "stream",
     "text": [
      "Pilih hanya angka aja ya: \n",
      " 3\n"
     ]
    },
    {
     "name": "stdout",
     "output_type": "stream",
     "text": [
      "\n",
      "Oke, sampe jumpa\n",
      "======================================\n"
     ]
    }
   ],
   "source": [
    "import datetime\n",
    "\n",
    "#Pengantar\n",
    "print(\"Hai aku AIs, asisten virtual pertamamu\")\n",
    "print(\"Siapa namamu?\")\n",
    "\n",
    "nama  = str(input(\"\\nMasukkan nama: \" ))\n",
    "\n",
    "print(\"\\nSalam kenal {}\".format(nama))\n",
    "print(\"Apakah ada yang bisa aku bantu?\")\n",
    "\n",
    "#Def menu utama\n",
    "def show_menu():\n",
    "    print (\"\\nSilahkan pilih bantuan yang bisa aku berikan:\")\n",
    "    print (\"1. Tentang hari ini\")\n",
    "    print (\"2. Mencatat jadwal agenda harianmu\")\n",
    "    print (\"3. Keluar\")\n",
    "\n",
    "#Def tentang hari ini\n",
    "def show_menu_1():\n",
    "    print (\"\\nApa yang kamu ingin tahu tentang hari ini?\")\n",
    "    print (\"1. Hari ini hari apa?\")\n",
    "    print (\"2. Hari ini tanggal berapa\")\n",
    "    print (\"3. Keluar\")\n",
    "\n",
    "#Bikin variabel hari dan tanggal\n",
    "x = datetime.datetime.now()\n",
    "tanggal = x.strftime(\"%d-%m-%Y\")\n",
    "hari = x.strftime(\"%A\")\n",
    "hari_ind = {\"Sunday\": \"Minggu\", \"Monday\": \"Senin\", \"Tuesday\": \"Selasa\", \"Wednesday\": \"Rabu\", \n",
    "            \"Thursday\": \"Kamis\", \"Friday\": \"Jumat\", \"Saturday\": \"Sabtu\"\n",
    "}\n",
    "\n",
    "jawaban_tanggal = [\n",
    "    \"Ya ampun masa tidak tahu, hari ini hari {}\".format(hari_ind[hari]),\n",
    "    \"Hari ini tanggal {}\".format(tanggal)\n",
    "    ]\n",
    "\n",
    "#Def agenda\n",
    "def show_menu_2():\n",
    "    print (\"\\nApa agendamu?\")\n",
    "    print (\"1. Daftar agenda\")\n",
    "    print (\"2. Menambah agenda\")\n",
    "    print (\"3. Keluar\")\n",
    "\n",
    "daftar_agenda = []\n",
    "    \n",
    "#tampilkan agenda\n",
    "def tampilkan_agenda():\n",
    "    if not daftar_agenda:\n",
    "        print(\"=================================\")\n",
    "        print (\"Daftar agendamu kosong {}!\\nCoba kamu tambahin agendamu dulu\".format (nama))\n",
    "        print(\"=================================\")\n",
    "    else:\n",
    "        print(\"Total agenda ada-{}, ini ya rinciannya:\".format(len(daftar_agenda)))\n",
    "        print(\"-----------------------------------------\")\n",
    "        for agenda in daftar_agenda:\n",
    "            print(\"Rencana kegiatanmu: \", agenda[\"Kegiatan\"])\n",
    "            print(\"Dilakukan tanggal: \", agenda[\"Tanggal\"])\n",
    "            print(\"Dilakukan jam: \", agenda[\"Jam\"])\n",
    "            print(\"-----------------------------------------\")\n",
    "#tambah agenda\n",
    "def tambah_agenda():\n",
    "    Kegiatan = input(\"Apa rencana kegiatanmu: \")\n",
    "    Tanggal = input(\"Tanggal berapa itu dilakukan (format DD-MM-YYYY): \")\n",
    "    Jam = input(\"Dilakukan jam berapa (HH:MM): \")\n",
    "    agenda = {\n",
    "        \"Kegiatan\": Kegiatan,\n",
    "        \"Tanggal\": Tanggal,\n",
    "        \"Jam\": Jam\n",
    "    }\n",
    "    daftar_agenda.append(agenda)\n",
    "    print(\"\\n=============================================\")\n",
    "    print(\"Oke, agendamu berhasil ditambahkan\")\n",
    "    print(\"=============================================\")\n",
    "    \n",
    "#create agenda\n",
    "def create_agenda():\n",
    "    f = open(\"Daftar agenda.txt\", \"w\")\n",
    "    f.write (\"Total agenda ada-{}, ini ya rinciannya:\\n\".format(len(daftar_agenda)))\n",
    "    f.write (\"-----------------------------------------\")\n",
    "    for agenda in daftar_agenda:\n",
    "        f.write(\"\\nRencana kegiatanmu: {} \\nDilakukan tanggal: {}\\nDilakukan jam: {}\\n\".format(agenda[\"Kegiatan\"],agenda[\"Tanggal\"],agenda[\"Jam\"]))\n",
    "        f.write (\"-----------------------------------------\")\n",
    "    f.close()\n",
    "\n",
    "#Running program\n",
    "while True:\n",
    "    show_menu()\n",
    "    menu_awal = input(\"Pilih hanya angka aja ya: \\n\")\n",
    "    \n",
    "    if menu_awal == \"1\":\n",
    "        #Tentang hari ini\n",
    "        while True:\n",
    "            show_menu_1()\n",
    "            menu_hari_ini = input(\"Pilih hanya angka aja ya: \\n\")\n",
    "            \n",
    "            if menu_hari_ini == \"1\":\n",
    "                print(\"=========================================================\")\n",
    "                print(jawaban_tanggal [0])\n",
    "                print(\"=========================================================\")\n",
    "            elif menu_hari_ini == \"2\":\n",
    "                print(\"======================================\")\n",
    "                print(jawaban_tanggal [1])\n",
    "                print(\"======================================\")\n",
    "            elif menu_hari_ini == \"3\":\n",
    "                print(\"\\nYasuda kalo gitu\")\n",
    "                print(\"======================================\")\n",
    "                break\n",
    "            else:\n",
    "                print(\"======================================\")\n",
    "                print(\"Menu tidak tersedia\")\n",
    "    \n",
    "    elif menu_awal == \"2\":\n",
    "        #Agenda\n",
    "        while True:\n",
    "            show_menu_2()\n",
    "            menu_agenda = input(\"Pilih hanya angka aja ya: \\n\")\n",
    "            \n",
    "            if menu_agenda == \"1\":\n",
    "                tampilkan_agenda()\n",
    "            elif menu_agenda == \"2\":\n",
    "                tambah_agenda()\n",
    "            elif menu_agenda == \"3\":\n",
    "                print(\"\\nYasuda kalo gitu\")\n",
    "                print(\"======================================\")\n",
    "                create_agenda ()\n",
    "                break\n",
    "            else:\n",
    "                print(\"======================================\")\n",
    "                print(\"Menu tidak tersedia\")\n",
    "\n",
    "    elif menu_awal == \"3\":\n",
    "        print(\"\\nOke, sampe jumpa\")\n",
    "        print(\"======================================\")\n",
    "        break\n",
    "    \n",
    "    else:\n",
    "        print(\"======================================\")\n",
    "        print(\"Menu tidak tersedia\")\n"
   ]
  },
  {
   "cell_type": "markdown",
   "id": "dirty-attitude",
   "metadata": {},
   "source": [
    "# Class"
   ]
  },
  {
   "cell_type": "code",
   "execution_count": 1,
   "id": "heard-yukon",
   "metadata": {},
   "outputs": [
    {
     "name": "stdout",
     "output_type": "stream",
     "text": [
      "5\n",
      "5\n"
     ]
    }
   ],
   "source": [
    "class MyClass:\n",
    "    x=5\n",
    "\n",
    "p1 = MyClass()\n",
    "p2 = MyClass()\n",
    "\n",
    "print(p1.x)\n",
    "print(p2.x)"
   ]
  },
  {
   "cell_type": "code",
   "execution_count": 14,
   "id": "collaborative-weather",
   "metadata": {},
   "outputs": [],
   "source": [
    "class Person:\n",
    "    def __init__(self, name, age):\n",
    "        self.name = name\n",
    "        self.age = age\n",
    "    \n",
    "    def greeting(self):\n",
    "        print(\"Hello my name is\", self.name)"
   ]
  },
  {
   "cell_type": "code",
   "execution_count": 13,
   "id": "numerous-circumstances",
   "metadata": {},
   "outputs": [
    {
     "name": "stdout",
     "output_type": "stream",
     "text": [
      "Farhan\n",
      "Andi\n",
      "Hello my name is Farhan\n",
      "Hello my name is Andi\n"
     ]
    }
   ],
   "source": [
    "person1 = Person(\"Farhan\",21)\n",
    "person2 = Person(\"Andi\",18)\n",
    "\n",
    "print(person1.name)\n",
    "print(person2.name)\n",
    "\n",
    "person1.greeting()\n",
    "person2.greeting()\n"
   ]
  },
  {
   "cell_type": "code",
   "execution_count": null,
   "id": "narrative-living",
   "metadata": {},
   "outputs": [],
   "source": []
  }
 ],
 "metadata": {
  "kernelspec": {
   "display_name": "Python 3",
   "language": "python",
   "name": "python3"
  },
  "language_info": {
   "codemirror_mode": {
    "name": "ipython",
    "version": 3
   },
   "file_extension": ".py",
   "mimetype": "text/x-python",
   "name": "python",
   "nbconvert_exporter": "python",
   "pygments_lexer": "ipython3",
   "version": "3.8.3"
  }
 },
 "nbformat": 4,
 "nbformat_minor": 5
}
